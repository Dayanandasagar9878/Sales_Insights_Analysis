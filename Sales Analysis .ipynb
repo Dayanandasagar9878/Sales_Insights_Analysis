{
 "cells": [
  {
   "cell_type": "markdown",
   "id": "fb31c03e",
   "metadata": {},
   "source": [
    "<h1 style=\"text-align: center;\">Sales Analysis</h1>"
   ]
  },
  {
   "cell_type": "code",
   "execution_count": 108,
   "id": "92a64ad5",
   "metadata": {},
   "outputs": [],
   "source": [
    "# Import Librarires\n",
    "\n",
    "import pandas as pd\n",
    "import numpy as np\n",
    "import matplotlib.pyplot as plt\n",
    "import seaborn as sns\n"
   ]
  },
  {
   "cell_type": "code",
   "execution_count": 107,
   "id": "16351112",
   "metadata": {
    "scrolled": true
   },
   "outputs": [
    {
     "data": {
      "text/html": [
       "<div>\n",
       "<style scoped>\n",
       "    .dataframe tbody tr th:only-of-type {\n",
       "        vertical-align: middle;\n",
       "    }\n",
       "\n",
       "    .dataframe tbody tr th {\n",
       "        vertical-align: top;\n",
       "    }\n",
       "\n",
       "    .dataframe thead th {\n",
       "        text-align: right;\n",
       "    }\n",
       "</style>\n",
       "<table border=\"1\" class=\"dataframe\">\n",
       "  <thead>\n",
       "    <tr style=\"text-align: right;\">\n",
       "      <th></th>\n",
       "      <th>Row ID</th>\n",
       "      <th>Order ID</th>\n",
       "      <th>Order Date</th>\n",
       "      <th>Ship Date</th>\n",
       "      <th>Ship Mode</th>\n",
       "      <th>Customer ID</th>\n",
       "      <th>Customer Name</th>\n",
       "      <th>Segment</th>\n",
       "      <th>Country</th>\n",
       "      <th>City</th>\n",
       "      <th>...</th>\n",
       "      <th>Postal Code</th>\n",
       "      <th>Region</th>\n",
       "      <th>Product ID</th>\n",
       "      <th>Category</th>\n",
       "      <th>Sub-Category</th>\n",
       "      <th>Product Name</th>\n",
       "      <th>Sales</th>\n",
       "      <th>Quantity</th>\n",
       "      <th>Discount</th>\n",
       "      <th>Profit</th>\n",
       "    </tr>\n",
       "  </thead>\n",
       "  <tbody>\n",
       "    <tr>\n",
       "      <th>0</th>\n",
       "      <td>1</td>\n",
       "      <td>CA-2016-152156</td>\n",
       "      <td>08-11-2016</td>\n",
       "      <td>11-11-2016</td>\n",
       "      <td>Second Class</td>\n",
       "      <td>CG-12520</td>\n",
       "      <td>Claire Gute</td>\n",
       "      <td>Consumer</td>\n",
       "      <td>United States</td>\n",
       "      <td>Henderson</td>\n",
       "      <td>...</td>\n",
       "      <td>42420</td>\n",
       "      <td>South</td>\n",
       "      <td>FUR-BO-10001798</td>\n",
       "      <td>Furniture</td>\n",
       "      <td>Bookcases</td>\n",
       "      <td>Bush Somerset Collection Bookcase</td>\n",
       "      <td>261.96</td>\n",
       "      <td>2</td>\n",
       "      <td>0.0</td>\n",
       "      <td>41.9136</td>\n",
       "    </tr>\n",
       "    <tr>\n",
       "      <th>1</th>\n",
       "      <td>2</td>\n",
       "      <td>CA-2016-152156</td>\n",
       "      <td>08-11-2016</td>\n",
       "      <td>11-11-2016</td>\n",
       "      <td>Second Class</td>\n",
       "      <td>CG-12520</td>\n",
       "      <td>Claire Gute</td>\n",
       "      <td>Consumer</td>\n",
       "      <td>United States</td>\n",
       "      <td>Henderson</td>\n",
       "      <td>...</td>\n",
       "      <td>42420</td>\n",
       "      <td>South</td>\n",
       "      <td>FUR-CH-10000454</td>\n",
       "      <td>Furniture</td>\n",
       "      <td>Chairs</td>\n",
       "      <td>Hon Deluxe Fabric Upholstered Stacking Chairs,...</td>\n",
       "      <td>731.94</td>\n",
       "      <td>3</td>\n",
       "      <td>0.0</td>\n",
       "      <td>219.5820</td>\n",
       "    </tr>\n",
       "    <tr>\n",
       "      <th>2</th>\n",
       "      <td>3</td>\n",
       "      <td>CA-2016-138688</td>\n",
       "      <td>12-06-2016</td>\n",
       "      <td>16-06-2016</td>\n",
       "      <td>Second Class</td>\n",
       "      <td>DV-13045</td>\n",
       "      <td>Darrin Van Huff</td>\n",
       "      <td>Corporate</td>\n",
       "      <td>United States</td>\n",
       "      <td>Los Angeles</td>\n",
       "      <td>...</td>\n",
       "      <td>90036</td>\n",
       "      <td>West</td>\n",
       "      <td>OFF-LA-10000240</td>\n",
       "      <td>Office Supplies</td>\n",
       "      <td>Labels</td>\n",
       "      <td>Self-Adhesive Address Labels for Typewriters b...</td>\n",
       "      <td>14.62</td>\n",
       "      <td>2</td>\n",
       "      <td>0.0</td>\n",
       "      <td>6.8714</td>\n",
       "    </tr>\n",
       "  </tbody>\n",
       "</table>\n",
       "<p>3 rows × 21 columns</p>\n",
       "</div>"
      ],
      "text/plain": [
       "   Row ID        Order ID  Order Date   Ship Date     Ship Mode Customer ID  \\\n",
       "0       1  CA-2016-152156  08-11-2016  11-11-2016  Second Class    CG-12520   \n",
       "1       2  CA-2016-152156  08-11-2016  11-11-2016  Second Class    CG-12520   \n",
       "2       3  CA-2016-138688  12-06-2016  16-06-2016  Second Class    DV-13045   \n",
       "\n",
       "     Customer Name    Segment        Country         City  ... Postal Code  \\\n",
       "0      Claire Gute   Consumer  United States    Henderson  ...       42420   \n",
       "1      Claire Gute   Consumer  United States    Henderson  ...       42420   \n",
       "2  Darrin Van Huff  Corporate  United States  Los Angeles  ...       90036   \n",
       "\n",
       "   Region       Product ID         Category Sub-Category  \\\n",
       "0   South  FUR-BO-10001798        Furniture    Bookcases   \n",
       "1   South  FUR-CH-10000454        Furniture       Chairs   \n",
       "2    West  OFF-LA-10000240  Office Supplies       Labels   \n",
       "\n",
       "                                        Product Name   Sales  Quantity  \\\n",
       "0                  Bush Somerset Collection Bookcase  261.96         2   \n",
       "1  Hon Deluxe Fabric Upholstered Stacking Chairs,...  731.94         3   \n",
       "2  Self-Adhesive Address Labels for Typewriters b...   14.62         2   \n",
       "\n",
       "   Discount    Profit  \n",
       "0       0.0   41.9136  \n",
       "1       0.0  219.5820  \n",
       "2       0.0    6.8714  \n",
       "\n",
       "[3 rows x 21 columns]"
      ]
     },
     "execution_count": 107,
     "metadata": {},
     "output_type": "execute_result"
    }
   ],
   "source": [
    "# Import dataset\n",
    "\n",
    "df = pd.read_csv(r'C:\\Users\\Dayanand Sagar\\Desktop\\Project\\Superstore.csv', encoding='latin1')\n",
    "\n",
    "df.head(3)\n"
   ]
  },
  {
   "cell_type": "code",
   "execution_count": 106,
   "id": "7a98e7e5",
   "metadata": {},
   "outputs": [
    {
     "name": "stdout",
     "output_type": "stream",
     "text": [
      "<class 'pandas.core.frame.DataFrame'>\n",
      "RangeIndex: 9994 entries, 0 to 9993\n",
      "Data columns (total 24 columns):\n",
      " #   Column         Non-Null Count  Dtype         \n",
      "---  ------         --------------  -----         \n",
      " 0   Row ID         9994 non-null   int64         \n",
      " 1   Order ID       9994 non-null   object        \n",
      " 2   Order Date     9994 non-null   datetime64[ns]\n",
      " 3   Ship Date      9994 non-null   object        \n",
      " 4   Ship Mode      9994 non-null   object        \n",
      " 5   Customer ID    9994 non-null   object        \n",
      " 6   Customer Name  9994 non-null   object        \n",
      " 7   Segment        9994 non-null   object        \n",
      " 8   Country        9994 non-null   object        \n",
      " 9   City           9994 non-null   object        \n",
      " 10  State          9994 non-null   object        \n",
      " 11  Postal Code    9994 non-null   int32         \n",
      " 12  Region         9994 non-null   object        \n",
      " 13  Product ID     9994 non-null   object        \n",
      " 14  Category       9994 non-null   object        \n",
      " 15  Sub-Category   9994 non-null   object        \n",
      " 16  Product Name   9994 non-null   object        \n",
      " 17  Sales          9994 non-null   float64       \n",
      " 18  Quantity       9994 non-null   int64         \n",
      " 19  Discount       9994 non-null   float64       \n",
      " 20  Profit         9994 non-null   float64       \n",
      " 21  Year           9994 non-null   int64         \n",
      " 22  Quarter        9994 non-null   period[Q-DEC] \n",
      " 23  month          9994 non-null   period[M]     \n",
      "dtypes: datetime64[ns](1), float64(3), int32(1), int64(3), object(14), period[M](1), period[Q-DEC](1)\n",
      "memory usage: 1.8+ MB\n"
     ]
    }
   ],
   "source": [
    "# Checking the size of data\n",
    "\n",
    "df.info()\n"
   ]
  },
  {
   "cell_type": "code",
   "execution_count": 105,
   "id": "7a8139ac",
   "metadata": {},
   "outputs": [
    {
     "data": {
      "text/plain": [
       "Row ID           0\n",
       "Order ID         0\n",
       "Order Date       0\n",
       "Ship Date        0\n",
       "Ship Mode        0\n",
       "Customer ID      0\n",
       "Customer Name    0\n",
       "Segment          0\n",
       "Country          0\n",
       "City             0\n",
       "State            0\n",
       "Postal Code      0\n",
       "Region           0\n",
       "Product ID       0\n",
       "Category         0\n",
       "Sub-Category     0\n",
       "Product Name     0\n",
       "Sales            0\n",
       "Quantity         0\n",
       "Discount         0\n",
       "Profit           0\n",
       "Year             0\n",
       "Quarter          0\n",
       "month            0\n",
       "dtype: int64"
      ]
     },
     "execution_count": 105,
     "metadata": {},
     "output_type": "execute_result"
    }
   ],
   "source": [
    "# Checking for null values\n",
    "\n",
    "df.isnull().sum()\n"
   ]
  },
  {
   "cell_type": "code",
   "execution_count": 104,
   "id": "ec71d763",
   "metadata": {},
   "outputs": [
    {
     "name": "stdout",
     "output_type": "stream",
     "text": [
      "<class 'pandas.core.frame.DataFrame'>\n",
      "RangeIndex: 9994 entries, 0 to 9993\n",
      "Data columns (total 24 columns):\n",
      " #   Column         Non-Null Count  Dtype         \n",
      "---  ------         --------------  -----         \n",
      " 0   Row ID         9994 non-null   int64         \n",
      " 1   Order ID       9994 non-null   object        \n",
      " 2   Order Date     9994 non-null   datetime64[ns]\n",
      " 3   Ship Date      9994 non-null   object        \n",
      " 4   Ship Mode      9994 non-null   object        \n",
      " 5   Customer ID    9994 non-null   object        \n",
      " 6   Customer Name  9994 non-null   object        \n",
      " 7   Segment        9994 non-null   object        \n",
      " 8   Country        9994 non-null   object        \n",
      " 9   City           9994 non-null   object        \n",
      " 10  State          9994 non-null   object        \n",
      " 11  Postal Code    9994 non-null   int32         \n",
      " 12  Region         9994 non-null   object        \n",
      " 13  Product ID     9994 non-null   object        \n",
      " 14  Category       9994 non-null   object        \n",
      " 15  Sub-Category   9994 non-null   object        \n",
      " 16  Product Name   9994 non-null   object        \n",
      " 17  Sales          9994 non-null   float64       \n",
      " 18  Quantity       9994 non-null   int64         \n",
      " 19  Discount       9994 non-null   float64       \n",
      " 20  Profit         9994 non-null   float64       \n",
      " 21  Year           9994 non-null   int64         \n",
      " 22  Quarter        9994 non-null   period[Q-DEC] \n",
      " 23  month          9994 non-null   period[M]     \n",
      "dtypes: datetime64[ns](1), float64(3), int32(1), int64(3), object(14), period[M](1), period[Q-DEC](1)\n",
      "memory usage: 1.8+ MB\n"
     ]
    }
   ],
   "source": [
    "# Changing the data type from float to integer\n",
    "\n",
    "df['Postal Code']=df['Postal Code'].astype(int)\n",
    "\n",
    "df.info()\n"
   ]
  },
  {
   "cell_type": "code",
   "execution_count": 103,
   "id": "94e0e3dc",
   "metadata": {},
   "outputs": [
    {
     "data": {
      "text/html": [
       "<div>\n",
       "<style scoped>\n",
       "    .dataframe tbody tr th:only-of-type {\n",
       "        vertical-align: middle;\n",
       "    }\n",
       "\n",
       "    .dataframe tbody tr th {\n",
       "        vertical-align: top;\n",
       "    }\n",
       "\n",
       "    .dataframe thead th {\n",
       "        text-align: right;\n",
       "    }\n",
       "</style>\n",
       "<table border=\"1\" class=\"dataframe\">\n",
       "  <thead>\n",
       "    <tr style=\"text-align: right;\">\n",
       "      <th></th>\n",
       "      <th>Row ID</th>\n",
       "      <th>Sales</th>\n",
       "      <th>Quantity</th>\n",
       "      <th>Discount</th>\n",
       "      <th>Profit</th>\n",
       "      <th>Year</th>\n",
       "    </tr>\n",
       "  </thead>\n",
       "  <tbody>\n",
       "    <tr>\n",
       "      <th>count</th>\n",
       "      <td>9994.000000</td>\n",
       "      <td>9994.000000</td>\n",
       "      <td>9994.000000</td>\n",
       "      <td>9994.000000</td>\n",
       "      <td>9994.000000</td>\n",
       "      <td>9994.000000</td>\n",
       "    </tr>\n",
       "    <tr>\n",
       "      <th>mean</th>\n",
       "      <td>4997.500000</td>\n",
       "      <td>229.858001</td>\n",
       "      <td>3.789574</td>\n",
       "      <td>0.156203</td>\n",
       "      <td>28.656896</td>\n",
       "      <td>2015.722233</td>\n",
       "    </tr>\n",
       "    <tr>\n",
       "      <th>std</th>\n",
       "      <td>2885.163629</td>\n",
       "      <td>623.245101</td>\n",
       "      <td>2.225110</td>\n",
       "      <td>0.206452</td>\n",
       "      <td>234.260108</td>\n",
       "      <td>1.123555</td>\n",
       "    </tr>\n",
       "    <tr>\n",
       "      <th>min</th>\n",
       "      <td>1.000000</td>\n",
       "      <td>0.444000</td>\n",
       "      <td>1.000000</td>\n",
       "      <td>0.000000</td>\n",
       "      <td>-6599.978000</td>\n",
       "      <td>2014.000000</td>\n",
       "    </tr>\n",
       "    <tr>\n",
       "      <th>25%</th>\n",
       "      <td>2499.250000</td>\n",
       "      <td>17.280000</td>\n",
       "      <td>2.000000</td>\n",
       "      <td>0.000000</td>\n",
       "      <td>1.728750</td>\n",
       "      <td>2015.000000</td>\n",
       "    </tr>\n",
       "    <tr>\n",
       "      <th>50%</th>\n",
       "      <td>4997.500000</td>\n",
       "      <td>54.490000</td>\n",
       "      <td>3.000000</td>\n",
       "      <td>0.200000</td>\n",
       "      <td>8.666500</td>\n",
       "      <td>2016.000000</td>\n",
       "    </tr>\n",
       "    <tr>\n",
       "      <th>75%</th>\n",
       "      <td>7495.750000</td>\n",
       "      <td>209.940000</td>\n",
       "      <td>5.000000</td>\n",
       "      <td>0.200000</td>\n",
       "      <td>29.364000</td>\n",
       "      <td>2017.000000</td>\n",
       "    </tr>\n",
       "    <tr>\n",
       "      <th>max</th>\n",
       "      <td>9994.000000</td>\n",
       "      <td>22638.480000</td>\n",
       "      <td>14.000000</td>\n",
       "      <td>0.800000</td>\n",
       "      <td>8399.976000</td>\n",
       "      <td>2017.000000</td>\n",
       "    </tr>\n",
       "  </tbody>\n",
       "</table>\n",
       "</div>"
      ],
      "text/plain": [
       "            Row ID         Sales     Quantity     Discount       Profit  \\\n",
       "count  9994.000000   9994.000000  9994.000000  9994.000000  9994.000000   \n",
       "mean   4997.500000    229.858001     3.789574     0.156203    28.656896   \n",
       "std    2885.163629    623.245101     2.225110     0.206452   234.260108   \n",
       "min       1.000000      0.444000     1.000000     0.000000 -6599.978000   \n",
       "25%    2499.250000     17.280000     2.000000     0.000000     1.728750   \n",
       "50%    4997.500000     54.490000     3.000000     0.200000     8.666500   \n",
       "75%    7495.750000    209.940000     5.000000     0.200000    29.364000   \n",
       "max    9994.000000  22638.480000    14.000000     0.800000  8399.976000   \n",
       "\n",
       "              Year  \n",
       "count  9994.000000  \n",
       "mean   2015.722233  \n",
       "std       1.123555  \n",
       "min    2014.000000  \n",
       "25%    2015.000000  \n",
       "50%    2016.000000  \n",
       "75%    2017.000000  \n",
       "max    2017.000000  "
      ]
     },
     "execution_count": 103,
     "metadata": {},
     "output_type": "execute_result"
    }
   ],
   "source": [
    "# General Overview of Data\n",
    "\n",
    "df.describe().drop('Postal Code',axis=1)\n"
   ]
  },
  {
   "cell_type": "code",
   "execution_count": 102,
   "id": "3b02e8e6",
   "metadata": {},
   "outputs": [
    {
     "name": "stdout",
     "output_type": "stream",
     "text": [
      "No duplicates exist\n"
     ]
    }
   ],
   "source": [
    "# Checking for duplicates\n",
    "\n",
    "if df.duplicated().sum() > 0:\n",
    "    print('Duplicates are present')\n",
    "else:\n",
    "    print('No duplicates exist')\n",
    "    "
   ]
  },
  {
   "cell_type": "markdown",
   "id": "f9388c0c",
   "metadata": {},
   "source": [
    "## Exploratory Data Analysis"
   ]
  },
  {
   "cell_type": "markdown",
   "id": "a9ed52c3",
   "metadata": {},
   "source": [
    "### Customer Analysis"
   ]
  },
  {
   "cell_type": "code",
   "execution_count": 41,
   "id": "3db148d4",
   "metadata": {},
   "outputs": [
    {
     "data": {
      "text/html": [
       "<div>\n",
       "<style scoped>\n",
       "    .dataframe tbody tr th:only-of-type {\n",
       "        vertical-align: middle;\n",
       "    }\n",
       "\n",
       "    .dataframe tbody tr th {\n",
       "        vertical-align: top;\n",
       "    }\n",
       "\n",
       "    .dataframe thead th {\n",
       "        text-align: right;\n",
       "    }\n",
       "</style>\n",
       "<table border=\"1\" class=\"dataframe\">\n",
       "  <thead>\n",
       "    <tr style=\"text-align: right;\">\n",
       "      <th></th>\n",
       "      <th>Row ID</th>\n",
       "      <th>Order ID</th>\n",
       "      <th>Order Date</th>\n",
       "      <th>Ship Date</th>\n",
       "      <th>Ship Mode</th>\n",
       "      <th>Customer ID</th>\n",
       "      <th>Customer Name</th>\n",
       "      <th>Segment</th>\n",
       "      <th>Country</th>\n",
       "      <th>City</th>\n",
       "      <th>...</th>\n",
       "      <th>Postal Code</th>\n",
       "      <th>Region</th>\n",
       "      <th>Product ID</th>\n",
       "      <th>Category</th>\n",
       "      <th>Sub-Category</th>\n",
       "      <th>Product Name</th>\n",
       "      <th>Sales</th>\n",
       "      <th>Quantity</th>\n",
       "      <th>Discount</th>\n",
       "      <th>Profit</th>\n",
       "    </tr>\n",
       "  </thead>\n",
       "  <tbody>\n",
       "    <tr>\n",
       "      <th>0</th>\n",
       "      <td>1</td>\n",
       "      <td>CA-2016-152156</td>\n",
       "      <td>08-11-2016</td>\n",
       "      <td>11-11-2016</td>\n",
       "      <td>Second Class</td>\n",
       "      <td>CG-12520</td>\n",
       "      <td>Claire Gute</td>\n",
       "      <td>Consumer</td>\n",
       "      <td>United States</td>\n",
       "      <td>Henderson</td>\n",
       "      <td>...</td>\n",
       "      <td>42420</td>\n",
       "      <td>South</td>\n",
       "      <td>FUR-BO-10001798</td>\n",
       "      <td>Furniture</td>\n",
       "      <td>Bookcases</td>\n",
       "      <td>Bush Somerset Collection Bookcase</td>\n",
       "      <td>261.96</td>\n",
       "      <td>2</td>\n",
       "      <td>0.0</td>\n",
       "      <td>41.9136</td>\n",
       "    </tr>\n",
       "    <tr>\n",
       "      <th>1</th>\n",
       "      <td>2</td>\n",
       "      <td>CA-2016-152156</td>\n",
       "      <td>08-11-2016</td>\n",
       "      <td>11-11-2016</td>\n",
       "      <td>Second Class</td>\n",
       "      <td>CG-12520</td>\n",
       "      <td>Claire Gute</td>\n",
       "      <td>Consumer</td>\n",
       "      <td>United States</td>\n",
       "      <td>Henderson</td>\n",
       "      <td>...</td>\n",
       "      <td>42420</td>\n",
       "      <td>South</td>\n",
       "      <td>FUR-CH-10000454</td>\n",
       "      <td>Furniture</td>\n",
       "      <td>Chairs</td>\n",
       "      <td>Hon Deluxe Fabric Upholstered Stacking Chairs,...</td>\n",
       "      <td>731.94</td>\n",
       "      <td>3</td>\n",
       "      <td>0.0</td>\n",
       "      <td>219.5820</td>\n",
       "    </tr>\n",
       "    <tr>\n",
       "      <th>2</th>\n",
       "      <td>3</td>\n",
       "      <td>CA-2016-138688</td>\n",
       "      <td>12-06-2016</td>\n",
       "      <td>16-06-2016</td>\n",
       "      <td>Second Class</td>\n",
       "      <td>DV-13045</td>\n",
       "      <td>Darrin Van Huff</td>\n",
       "      <td>Corporate</td>\n",
       "      <td>United States</td>\n",
       "      <td>Los Angeles</td>\n",
       "      <td>...</td>\n",
       "      <td>90036</td>\n",
       "      <td>West</td>\n",
       "      <td>OFF-LA-10000240</td>\n",
       "      <td>Office Supplies</td>\n",
       "      <td>Labels</td>\n",
       "      <td>Self-Adhesive Address Labels for Typewriters b...</td>\n",
       "      <td>14.62</td>\n",
       "      <td>2</td>\n",
       "      <td>0.0</td>\n",
       "      <td>6.8714</td>\n",
       "    </tr>\n",
       "  </tbody>\n",
       "</table>\n",
       "<p>3 rows × 21 columns</p>\n",
       "</div>"
      ],
      "text/plain": [
       "   Row ID        Order ID  Order Date   Ship Date     Ship Mode Customer ID  \\\n",
       "0       1  CA-2016-152156  08-11-2016  11-11-2016  Second Class    CG-12520   \n",
       "1       2  CA-2016-152156  08-11-2016  11-11-2016  Second Class    CG-12520   \n",
       "2       3  CA-2016-138688  12-06-2016  16-06-2016  Second Class    DV-13045   \n",
       "\n",
       "     Customer Name    Segment        Country         City  ... Postal Code  \\\n",
       "0      Claire Gute   Consumer  United States    Henderson  ...       42420   \n",
       "1      Claire Gute   Consumer  United States    Henderson  ...       42420   \n",
       "2  Darrin Van Huff  Corporate  United States  Los Angeles  ...       90036   \n",
       "\n",
       "   Region       Product ID         Category Sub-Category  \\\n",
       "0   South  FUR-BO-10001798        Furniture    Bookcases   \n",
       "1   South  FUR-CH-10000454        Furniture       Chairs   \n",
       "2    West  OFF-LA-10000240  Office Supplies       Labels   \n",
       "\n",
       "                                        Product Name   Sales  Quantity  \\\n",
       "0                  Bush Somerset Collection Bookcase  261.96         2   \n",
       "1  Hon Deluxe Fabric Upholstered Stacking Chairs,...  731.94         3   \n",
       "2  Self-Adhesive Address Labels for Typewriters b...   14.62         2   \n",
       "\n",
       "   Discount    Profit  \n",
       "0       0.0   41.9136  \n",
       "1       0.0  219.5820  \n",
       "2       0.0    6.8714  \n",
       "\n",
       "[3 rows x 21 columns]"
      ]
     },
     "execution_count": 41,
     "metadata": {},
     "output_type": "execute_result"
    }
   ],
   "source": [
    "df.head(3)"
   ]
  },
  {
   "cell_type": "code",
   "execution_count": 134,
   "id": "5c5f2e2f",
   "metadata": {},
   "outputs": [
    {
     "name": "stdout",
     "output_type": "stream",
     "text": [
      "  Customer Type\n",
      "0      Consumer\n",
      "1     Corporate\n",
      "2   Home Office\n"
     ]
    }
   ],
   "source": [
    "# Find the types of Customers\n",
    "\n",
    "types_of_customers = df['Segment'].unique()\n",
    "\n",
    "# Convert to a DataFrame for a tabular view\n",
    "\n",
    "types_of_customers = pd.DataFrame(types_of_customers, columns=['Customer Type'])\n",
    "print(types_of_customers)\n"
   ]
  },
  {
   "cell_type": "code",
   "execution_count": 101,
   "id": "9b74a0d0",
   "metadata": {},
   "outputs": [
    {
     "name": "stdout",
     "output_type": "stream",
     "text": [
      "Total no of customers: 9994\n"
     ]
    }
   ],
   "source": [
    "# Total Number of customers\n",
    "\n",
    "customers = df['Row ID'].count()\n",
    "print('Total no of customers:', customers)\n"
   ]
  },
  {
   "cell_type": "code",
   "execution_count": 100,
   "id": "db34f324",
   "metadata": {},
   "outputs": [
    {
     "name": "stdout",
     "output_type": "stream",
     "text": [
      "  Customer Type  Total Customers\n",
      "0      Consumer             5191\n",
      "1     Corporate             3020\n",
      "2   Home Office             1783\n"
     ]
    }
   ],
   "source": [
    "# Number of customers in each segment\n",
    "\n",
    "no_of_customers = df['Segment'].value_counts().reset_index()\n",
    "no_of_customers = no_of_customers.rename(columns={'index':'Customer Type','Segment':'Total Customers'})\n",
    "\n",
    "print(no_of_customers)\n"
   ]
  },
  {
   "cell_type": "code",
   "execution_count": 99,
   "id": "c3324ae6",
   "metadata": {},
   "outputs": [
    {
     "data": {
      "image/png": "[encoded data removed]",
      "text/plain": [
       "<Figure size 720x360 with 1 Axes>"
      ]
     },
     "metadata": {},
     "output_type": "display_data"
    }
   ],
   "source": [
    "# Pie Chart for number of customers in each segment\n",
    "\n",
    "plt.figure(figsize=(10,5))\n",
    "plt.pie(no_of_customers['Total Customers'],labels=no_of_customers['Customer Type'],autopct='%0.2f%%');\n",
    "plt.title('Distribution of Customers')\n",
    "plt.show()\n"
   ]
  },
  {
   "cell_type": "markdown",
   "id": "4e320b59",
   "metadata": {},
   "source": [
    "## Customers and sales"
   ]
  },
  {
   "cell_type": "code",
   "execution_count": 98,
   "id": "fac061ae",
   "metadata": {},
   "outputs": [
    {
     "name": "stdout",
     "output_type": "stream",
     "text": [
      "  Customer Type   Total Sales\n",
      "0      Consumer  1.161401e+06\n",
      "1     Corporate  7.061464e+05\n",
      "2   Home Office  4.296531e+05\n"
     ]
    }
   ],
   "source": [
    "# Total Sales based on segment\n",
    "\n",
    "sales_per_segment = df.groupby('Segment')['Sales'].sum().reset_index()\n",
    "\n",
    "# Rename the column for better result\n",
    "\n",
    "sales_per_segment = sales_per_segment.rename(columns={'Segment':'Customer Type','Sales':'Total Sales'})\n",
    "print(sales_per_segment)\n"
   ]
  },
  {
   "cell_type": "code",
   "execution_count": 110,
   "id": "6b59bb85",
   "metadata": {},
   "outputs": [
    {
     "data": {
      "image/png": "[encoded data removed]",
      "text/plain": [
       "<Figure size 720x360 with 1 Axes>"
      ]
     },
     "metadata": {},
     "output_type": "display_data"
    }
   ],
   "source": [
    "# Plotting a pie chart for customers and sales by segment\n",
    "\n",
    "plt.figure(figsize=(10,5))\n",
    "plt.pie(sales_per_category['Total Sales'],labels=no_of_customers['Customer Type'],autopct='%0.2f%%');\n",
    "plt.title('Distribution of Sales based on segment')\n",
    "plt.show()\n"
   ]
  },
  {
   "cell_type": "code",
   "execution_count": 109,
   "id": "75bb728f",
   "metadata": {
    "scrolled": true
   },
   "outputs": [
    {
     "data": {
      "image/png": "[encoded data removed]",
      "text/plain": [
       "<Figure size 576x360 with 1 Axes>"
      ]
     },
     "metadata": {
      "needs_background": "light"
     },
     "output_type": "display_data"
    }
   ],
   "source": [
    "# Bar graph of sales distribution by segment\n",
    "\n",
    "plt.figure(figsize=(8,5))\n",
    "plt.bar(sales_per_category['Customer Type'],sales_per_category['Total Sales'],color='orange')\n",
    "plt.title('Distribution of Sales based on Segment')\n",
    "plt.xlabel('Segment',fontsize=12)\n",
    "plt.ylabel('Sales',fontsize=12)\n",
    "plt.show()\n"
   ]
  },
  {
   "cell_type": "markdown",
   "id": "5ecd5761",
   "metadata": {},
   "source": [
    "# Customers Loayalty"
   ]
  },
  {
   "cell_type": "code",
   "execution_count": 111,
   "id": "540d488d",
   "metadata": {},
   "outputs": [
    {
     "name": "stdout",
     "output_type": "stream",
     "text": [
      "  Customer ID        Customer Name      Segment  Total Orders\n",
      "0    WB-21850        William Brown     Consumer            37\n",
      "1    PP-18955           Paul Prost  Home Office            34\n",
      "2    JL-15835             John Lee     Consumer            34\n",
      "3    MA-17560         Matt Abelman  Home Office            34\n",
      "4    SV-20365          Seth Vernon     Consumer            32\n",
      "5    JD-15895     Jonathan Doherty    Corporate            32\n",
      "6    CK-12205  Chloris Kastensmidt     Consumer            32\n",
      "7    EH-13765         Edward Hooks    Corporate            32\n",
      "8    EP-13915           Emily Phan     Consumer            31\n",
      "9    ZC-21910     Zuschuss Carroll     Consumer            31\n"
     ]
    }
   ],
   "source": [
    "# Group data to find the best customers based on their orders\n",
    "\n",
    "customer_orders = df.groupby(['Customer ID','Customer Name','Segment'])['Order ID'].count().reset_index()\n",
    "\n",
    "#Rename the column \n",
    "\n",
    "customer_orders = customer_orders.rename(columns={'Order ID':'Total Orders'})\n",
    "\n",
    "#identify repeat customers\n",
    "\n",
    "repeat_customers = customer_orders[customer_orders['Total Orders'] >= 1]\n",
    "\n",
    "#Sort the customers in descending order\n",
    "\n",
    "sort_customers = repeat_customers.sort_values(by='Total Orders',ascending=False)\n",
    "\n",
    "# Top 10 Customers\n",
    "\n",
    "top_customers = sort_customers.head(10).reset_index(drop=True)\n",
    "print(top_customers)\n"
   ]
  },
  {
   "cell_type": "code",
   "execution_count": 112,
   "id": "a0bb38f1",
   "metadata": {},
   "outputs": [
    {
     "name": "stdout",
     "output_type": "stream",
     "text": [
      "  Customer ID       Customer Name      Segment      Sales\n",
      "0    SM-20320         Sean Miller  Home Office  25043.050\n",
      "1    TC-20980        Tamara Chand    Corporate  19052.218\n",
      "2    RB-19360        Raymond Buch     Consumer  15117.339\n",
      "3    TA-21385        Tom Ashbrook  Home Office  14595.620\n",
      "4    AB-10105       Adrian Barton     Consumer  14473.571\n",
      "5    KL-16645        Ken Lonsdale     Consumer  14175.229\n",
      "6    SC-20095        Sanjit Chand     Consumer  14142.334\n",
      "7    HL-15040        Hunter Lopez     Consumer  12873.298\n",
      "8    SE-20110        Sanjit Engle     Consumer  12209.438\n",
      "9    CC-12370  Christopher Conant     Consumer  12129.072\n"
     ]
    }
   ],
   "source": [
    "# Group data based on Customer ID,Customer Name, and Sales\n",
    "\n",
    "customer_sales = df.groupby(['Customer ID','Customer Name','Segment'])['Sales'].sum().reset_index()\n",
    "\n",
    "#sorting customers to descending\n",
    "\n",
    "sort_customer_sales = customer_sales.sort_values(by='Sales',ascending=False)\n",
    "\n",
    "# Top 10 Customers based on sales\n",
    "\n",
    "ranking_customers = sort_customer_sales.head(10).reset_index(drop=True)\n",
    "print(ranking_customers)\n"
   ]
  },
  {
   "cell_type": "markdown",
   "id": "82664fa1",
   "metadata": {},
   "source": [
    "## Mode of Shiping"
   ]
  },
  {
   "cell_type": "code",
   "execution_count": 154,
   "id": "bedbdb00",
   "metadata": {},
   "outputs": [
    {
     "data": {
      "text/html": [
       "<div>\n",
       "<style scoped>\n",
       "    .dataframe tbody tr th:only-of-type {\n",
       "        vertical-align: middle;\n",
       "    }\n",
       "\n",
       "    .dataframe tbody tr th {\n",
       "        vertical-align: top;\n",
       "    }\n",
       "\n",
       "    .dataframe thead th {\n",
       "        text-align: right;\n",
       "    }\n",
       "</style>\n",
       "<table border=\"1\" class=\"dataframe\">\n",
       "  <thead>\n",
       "    <tr style=\"text-align: right;\">\n",
       "      <th></th>\n",
       "      <th>Row ID</th>\n",
       "      <th>Order ID</th>\n",
       "      <th>Order Date</th>\n",
       "      <th>Ship Date</th>\n",
       "      <th>Ship Mode</th>\n",
       "      <th>Customer ID</th>\n",
       "      <th>Customer Name</th>\n",
       "      <th>Segment</th>\n",
       "      <th>Country</th>\n",
       "      <th>City</th>\n",
       "      <th>...</th>\n",
       "      <th>Postal Code</th>\n",
       "      <th>Region</th>\n",
       "      <th>Product ID</th>\n",
       "      <th>Category</th>\n",
       "      <th>Sub-Category</th>\n",
       "      <th>Product Name</th>\n",
       "      <th>Sales</th>\n",
       "      <th>Quantity</th>\n",
       "      <th>Discount</th>\n",
       "      <th>Profit</th>\n",
       "    </tr>\n",
       "  </thead>\n",
       "  <tbody>\n",
       "    <tr>\n",
       "      <th>0</th>\n",
       "      <td>1</td>\n",
       "      <td>CA-2016-152156</td>\n",
       "      <td>08-11-2016</td>\n",
       "      <td>11-11-2016</td>\n",
       "      <td>Second Class</td>\n",
       "      <td>CG-12520</td>\n",
       "      <td>Claire Gute</td>\n",
       "      <td>Consumer</td>\n",
       "      <td>United States</td>\n",
       "      <td>Henderson</td>\n",
       "      <td>...</td>\n",
       "      <td>42420</td>\n",
       "      <td>South</td>\n",
       "      <td>FUR-BO-10001798</td>\n",
       "      <td>Furniture</td>\n",
       "      <td>Bookcases</td>\n",
       "      <td>Bush Somerset Collection Bookcase</td>\n",
       "      <td>261.96</td>\n",
       "      <td>2</td>\n",
       "      <td>0.0</td>\n",
       "      <td>41.9136</td>\n",
       "    </tr>\n",
       "    <tr>\n",
       "      <th>1</th>\n",
       "      <td>2</td>\n",
       "      <td>CA-2016-152156</td>\n",
       "      <td>08-11-2016</td>\n",
       "      <td>11-11-2016</td>\n",
       "      <td>Second Class</td>\n",
       "      <td>CG-12520</td>\n",
       "      <td>Claire Gute</td>\n",
       "      <td>Consumer</td>\n",
       "      <td>United States</td>\n",
       "      <td>Henderson</td>\n",
       "      <td>...</td>\n",
       "      <td>42420</td>\n",
       "      <td>South</td>\n",
       "      <td>FUR-CH-10000454</td>\n",
       "      <td>Furniture</td>\n",
       "      <td>Chairs</td>\n",
       "      <td>Hon Deluxe Fabric Upholstered Stacking Chairs,...</td>\n",
       "      <td>731.94</td>\n",
       "      <td>3</td>\n",
       "      <td>0.0</td>\n",
       "      <td>219.5820</td>\n",
       "    </tr>\n",
       "    <tr>\n",
       "      <th>2</th>\n",
       "      <td>3</td>\n",
       "      <td>CA-2016-138688</td>\n",
       "      <td>12-06-2016</td>\n",
       "      <td>16-06-2016</td>\n",
       "      <td>Second Class</td>\n",
       "      <td>DV-13045</td>\n",
       "      <td>Darrin Van Huff</td>\n",
       "      <td>Corporate</td>\n",
       "      <td>United States</td>\n",
       "      <td>Los Angeles</td>\n",
       "      <td>...</td>\n",
       "      <td>90036</td>\n",
       "      <td>West</td>\n",
       "      <td>OFF-LA-10000240</td>\n",
       "      <td>Office Supplies</td>\n",
       "      <td>Labels</td>\n",
       "      <td>Self-Adhesive Address Labels for Typewriters b...</td>\n",
       "      <td>14.62</td>\n",
       "      <td>2</td>\n",
       "      <td>0.0</td>\n",
       "      <td>6.8714</td>\n",
       "    </tr>\n",
       "  </tbody>\n",
       "</table>\n",
       "<p>3 rows × 21 columns</p>\n",
       "</div>"
      ],
      "text/plain": [
       "   Row ID        Order ID  Order Date   Ship Date     Ship Mode Customer ID  \\\n",
       "0       1  CA-2016-152156  08-11-2016  11-11-2016  Second Class    CG-12520   \n",
       "1       2  CA-2016-152156  08-11-2016  11-11-2016  Second Class    CG-12520   \n",
       "2       3  CA-2016-138688  12-06-2016  16-06-2016  Second Class    DV-13045   \n",
       "\n",
       "     Customer Name    Segment        Country         City  ... Postal Code  \\\n",
       "0      Claire Gute   Consumer  United States    Henderson  ...       42420   \n",
       "1      Claire Gute   Consumer  United States    Henderson  ...       42420   \n",
       "2  Darrin Van Huff  Corporate  United States  Los Angeles  ...       90036   \n",
       "\n",
       "   Region       Product ID         Category Sub-Category  \\\n",
       "0   South  FUR-BO-10001798        Furniture    Bookcases   \n",
       "1   South  FUR-CH-10000454        Furniture       Chairs   \n",
       "2    West  OFF-LA-10000240  Office Supplies       Labels   \n",
       "\n",
       "                                        Product Name   Sales  Quantity  \\\n",
       "0                  Bush Somerset Collection Bookcase  261.96         2   \n",
       "1  Hon Deluxe Fabric Upholstered Stacking Chairs,...  731.94         3   \n",
       "2  Self-Adhesive Address Labels for Typewriters b...   14.62         2   \n",
       "\n",
       "   Discount    Profit  \n",
       "0       0.0   41.9136  \n",
       "1       0.0  219.5820  \n",
       "2       0.0    6.8714  \n",
       "\n",
       "[3 rows x 21 columns]"
      ]
     },
     "execution_count": 154,
     "metadata": {},
     "output_type": "execute_result"
    }
   ],
   "source": [
    "df.head(3)"
   ]
  },
  {
   "cell_type": "code",
   "execution_count": 135,
   "id": "41a82314",
   "metadata": {},
   "outputs": [
    {
     "name": "stdout",
     "output_type": "stream",
     "text": [
      "        Ship Mode\n",
      "0    Second Class\n",
      "1  Standard Class\n",
      "2     First Class\n",
      "3        Same Day\n"
     ]
    }
   ],
   "source": [
    "# Find the mode of shiping available\n",
    "\n",
    "shiping_mode = df['Ship Mode'].unique()\n",
    "\n",
    "# Convert to a DataFrame for a tabular view\n",
    "\n",
    "shipping_mode_df = pd.DataFrame(shiping_mode,columns = ['Ship Mode'])\n",
    "print(shipping_mode_df)\n"
   ]
  },
  {
   "cell_type": "code",
   "execution_count": 24,
   "id": "69dd46f1",
   "metadata": {},
   "outputs": [
    {
     "name": "stdout",
     "output_type": "stream",
     "text": [
      "        Ship Mode  Total Customers\n",
      "0  Standard Class             5968\n",
      "1    Second Class             1945\n",
      "2     First Class             1538\n",
      "3        Same Day              543\n"
     ]
    }
   ],
   "source": [
    "# Frequency use of shipping mode\n",
    "\n",
    "cust_ship_mode = df['Ship Mode'].value_counts().reset_index()\n",
    "cust_ship_mode = cust_ship_mode.rename(columns={'index':'Ship Mode','Ship Mode':'Total Customers'})\n",
    "print(cust_ship_mode)\n"
   ]
  },
  {
   "cell_type": "code",
   "execution_count": 26,
   "id": "3d6d0f47",
   "metadata": {},
   "outputs": [
    {
     "data": {
      "image/png": "[encoded data removed]",
      "text/plain": [
       "<Figure size 720x504 with 1 Axes>"
      ]
     },
     "metadata": {},
     "output_type": "display_data"
    }
   ],
   "source": [
    "# Number of customers by shipping mode\n",
    "\n",
    "plt.figure(figsize=(10,7))\n",
    "plt.pie(cust_ship_mode['Total Customers'],labels=cust_ship_mode['Ship Mode'],autopct='%1.1f%%');\n",
    "plt.title('Popular Shipping Method')\n",
    "plt.show()\n"
   ]
  },
  {
   "cell_type": "code",
   "execution_count": 32,
   "id": "35e6b4d1",
   "metadata": {},
   "outputs": [
    {
     "name": "stdout",
     "output_type": "stream",
     "text": [
      "        Ship Mode   Total Sales\n",
      "0     First Class  3.514284e+05\n",
      "1        Same Day  1.283631e+05\n",
      "2    Second Class  4.591936e+05\n",
      "3  Standard Class  1.358216e+06\n"
     ]
    }
   ],
   "source": [
    "# Distribution of Sales per Ship Mode\n",
    "\n",
    "sales_per_shipmode = df.groupby(['Ship Mode'])['Sales'].sum().reset_index()\n",
    "sales_per_shipmode = sales_per_shipmode.rename(columns={'Sales':'Total Sales'})\n",
    "print(sales_per_shipmode)\n"
   ]
  },
  {
   "cell_type": "code",
   "execution_count": 34,
   "id": "155fc47f",
   "metadata": {},
   "outputs": [
    {
     "data": {
      "image/png": "[encoded data removed]",
      "text/plain": [
       "<Figure size 720x504 with 1 Axes>"
      ]
     },
     "metadata": {},
     "output_type": "display_data"
    }
   ],
   "source": [
    "# Distribution of sales based on \n",
    "\n",
    "plt.figure(figsize=(10,7))\n",
    "plt.pie(sales_per_shipmode['Total Sales'],labels=sales_per_shipmode['Ship Mode'],autopct='%1.1f%%');\n",
    "plt.title('Popular Shipping Method for Sales')\n",
    "plt.show()\n"
   ]
  },
  {
   "cell_type": "markdown",
   "id": "6a1094e7",
   "metadata": {},
   "source": [
    "## Geographical Analysis"
   ]
  },
  {
   "cell_type": "code",
   "execution_count": 35,
   "id": "dd438567",
   "metadata": {},
   "outputs": [
    {
     "name": "stdout",
     "output_type": "stream",
     "text": [
      "            State  Total Customers\n",
      "0      California             2001\n",
      "1        New York             1128\n",
      "2           Texas              985\n",
      "3    Pennsylvania              587\n",
      "4      Washington              506\n",
      "5        Illinois              492\n",
      "6            Ohio              469\n",
      "7         Florida              383\n",
      "8        Michigan              255\n",
      "9  North Carolina              249\n"
     ]
    }
   ],
   "source": [
    "# Number of Customers in each state\n",
    "\n",
    "state = df['State'].value_counts().reset_index()\n",
    "state = state.rename(columns={'index':'State','State':'Total Customers'})\n",
    "print(state.head(10))\n"
   ]
  },
  {
   "cell_type": "code",
   "execution_count": 43,
   "id": "e9930bff",
   "metadata": {},
   "outputs": [
    {
     "name": "stdout",
     "output_type": "stream",
     "text": [
      "          State        Sales\n",
      "0    California  457687.6315\n",
      "1      New York  310876.2710\n",
      "2         Texas  170188.0458\n",
      "3    Washington  138641.2700\n",
      "4  Pennsylvania  116511.9140\n",
      "5       Florida   89473.7080\n",
      "6      Illinois   80166.1010\n",
      "7          Ohio   78258.1360\n",
      "8      Michigan   76269.6140\n",
      "9      Virginia   70636.7200\n"
     ]
    }
   ],
   "source": [
    "# Distribution of sales based o state\n",
    "\n",
    "state_sales = df.groupby('State')['Sales'].sum().reset_index()\n",
    "state_sales = state_sales.sort_values(by='Sales',ascending=False)\n",
    "\n",
    "# Top 10 states per sales\n",
    "\n",
    "print(state_sales.head(10).reset_index(drop=True))\n"
   ]
  },
  {
   "cell_type": "code",
   "execution_count": 42,
   "id": "7770f8a1",
   "metadata": {},
   "outputs": [
    {
     "data": {
      "image/png": "[encoded data removed]",
      "text/plain": [
       "<Figure size 864x576 with 1 Axes>"
      ]
     },
     "metadata": {
      "needs_background": "light"
     },
     "output_type": "display_data"
    }
   ],
   "source": [
    "# Calculate total sales per state\n",
    "state_sales = df.groupby('State')['Sales'].sum().reset_index()\n",
    "\n",
    "# Sort states by total sales in descending order\n",
    "state_sales = state_sales.sort_values(by='Sales', ascending=False)\n",
    "\n",
    "# Display top 10 states by sales\n",
    "top_10_states = state_sales.head(10).reset_index(drop=True)\n",
    "\n",
    "# Plotting\n",
    "plt.figure(figsize=(12, 8))\n",
    "sns.barplot(x='Sales', y='State', data=top_10_states, palette='Blues_d')\n",
    "plt.xlabel('Total Sales')\n",
    "plt.ylabel('State')\n",
    "plt.title('Top 10 States by Sales')\n",
    "plt.show()\n"
   ]
  },
  {
   "cell_type": "code",
   "execution_count": 44,
   "id": "b0be946e",
   "metadata": {},
   "outputs": [
    {
     "name": "stdout",
     "output_type": "stream",
     "text": [
      "            City  Total Customers\n",
      "0  New York City              915\n",
      "1    Los Angeles              747\n",
      "2   Philadelphia              537\n",
      "3  San Francisco              510\n",
      "4        Seattle              428\n",
      "5        Houston              377\n",
      "6        Chicago              314\n",
      "7       Columbus              222\n",
      "8      San Diego              170\n",
      "9    Springfield              163\n"
     ]
    }
   ],
   "source": [
    "# Number of Customers by city\n",
    "\n",
    "city = df['City'].value_counts().reset_index()\n",
    "city = city.rename(columns={'index':'City','City':'Total Customers'})\n",
    "print(city.head(10))\n"
   ]
  },
  {
   "cell_type": "code",
   "execution_count": 50,
   "id": "ed1bb392",
   "metadata": {},
   "outputs": [
    {
     "name": "stdout",
     "output_type": "stream",
     "text": [
      "            City        Sales\n",
      "0  New York City  256368.1610\n",
      "1    Los Angeles  175851.3410\n",
      "2        Seattle  119540.7420\n",
      "3  San Francisco  112669.0920\n",
      "4   Philadelphia  109077.0130\n",
      "5        Houston   64504.7604\n",
      "6        Chicago   48539.5410\n",
      "7      San Diego   47521.0290\n",
      "8   Jacksonville   44713.1830\n",
      "9    Springfield   43054.3420\n"
     ]
    }
   ],
   "source": [
    "# Distribution of sales by city\n",
    "\n",
    "city_sales = df.groupby('City')['Sales'].sum().reset_index()\n",
    "city_sales = city_sales.sort_values(by='Sales',ascending=False)\n",
    "\n",
    "# Top 10 cities by sales\n",
    "\n",
    "print(city_sales.head(10).reset_index(drop=True))\n"
   ]
  },
  {
   "cell_type": "code",
   "execution_count": 53,
   "id": "10fc31fc",
   "metadata": {},
   "outputs": [
    {
     "data": {
      "image/png": "[encoded data removed]",
      "text/plain": [
       "<Figure size 864x576 with 1 Axes>"
      ]
     },
     "metadata": {
      "needs_background": "light"
     },
     "output_type": "display_data"
    }
   ],
   "source": [
    "# Display top 10 Cities by sales\n",
    "\n",
    "top_10_cities = city_sales.head(10).reset_index(drop=True)\n",
    "\n",
    "# Plotting\n",
    "plt.figure(figsize=(12, 8))\n",
    "sns.barplot(x='Sales', y='City', data=top_10_cities, palette='Blues_d')\n",
    "plt.xlabel('Total Sales')\n",
    "plt.ylabel('State')\n",
    "plt.title('Top 10 Cities by Sales')\n",
    "plt.show()\n"
   ]
  },
  {
   "cell_type": "markdown",
   "id": "95cc7469",
   "metadata": {},
   "source": [
    "## Product Analysis"
   ]
  },
  {
   "cell_type": "code",
   "execution_count": 160,
   "id": "b456603d",
   "metadata": {},
   "outputs": [
    {
     "name": "stdout",
     "output_type": "stream",
     "text": [
      "          Category\n",
      "0        Furniture\n",
      "1  Office Supplies\n",
      "2       Technology\n"
     ]
    }
   ],
   "source": [
    "# Find the categories\n",
    "\n",
    "category = df['Category'].unique()\n",
    "\n",
    "category_df = pd.DataFrame(category,columns=(['Category']))\n",
    "print(category_df)\n"
   ]
  },
  {
   "cell_type": "code",
   "execution_count": 139,
   "id": "55dadd74",
   "metadata": {},
   "outputs": [
    {
     "name": "stdout",
     "output_type": "stream",
     "text": [
      "   Sub-Category\n",
      "0     Bookcases\n",
      "1        Chairs\n",
      "2        Labels\n",
      "3        Tables\n",
      "4       Storage\n",
      "5   Furnishings\n",
      "6           Art\n",
      "7        Phones\n",
      "8       Binders\n",
      "9    Appliances\n",
      "10        Paper\n",
      "11  Accessories\n",
      "12    Envelopes\n",
      "13    Fasteners\n",
      "14     Supplies\n",
      "15     Machines\n",
      "16      Copiers\n"
     ]
    }
   ],
   "source": [
    "# Find the products\n",
    "\n",
    "sub_category = df['Sub-Category'].unique()\n",
    "\n",
    "# Convert to a DataFrame for a tabular view\n",
    "\n",
    "product_lists = pd.DataFrame(sub_category, columns=['Sub-Category'])\n",
    "print(product_lists)\n"
   ]
  },
  {
   "cell_type": "code",
   "execution_count": 141,
   "id": "aa6a851d",
   "metadata": {},
   "outputs": [
    {
     "name": "stdout",
     "output_type": "stream",
     "text": [
      "          Category  Sub-Categories\n",
      "0        Furniture               4\n",
      "1  Office Supplies               9\n",
      "2       Technology               4\n"
     ]
    }
   ],
   "source": [
    "# Find how many sub-categories are their in each category\n",
    "\n",
    "product_category = df.groupby('Category')['Sub-Category'].nunique().reset_index()\n",
    "product_category = product_category.rename(columns={'Sub-Category':'Sub-Categories'})\n",
    "print(product_category)\n"
   ]
  },
  {
   "cell_type": "code",
   "execution_count": 142,
   "id": "e4fc4f17",
   "metadata": {},
   "outputs": [
    {
     "name": "stdout",
     "output_type": "stream",
     "text": [
      "          Category        Sales\n",
      "0       Technology  836154.0330\n",
      "1        Furniture  741999.7953\n",
      "2  Office Supplies  719047.0320\n"
     ]
    }
   ],
   "source": [
    "# Distribution Sales by category\n",
    "\n",
    "category_sales = df.groupby('Category')['Sales'].sum().reset_index()\n",
    "print(category_sales.sort_values(by='Sales',ascending=False).reset_index(drop=True))\n"
   ]
  },
  {
   "cell_type": "code",
   "execution_count": 143,
   "id": "ced661d5",
   "metadata": {},
   "outputs": [
    {
     "data": {
      "image/png": "[encoded data removed]",
      "text/plain": [
       "<Figure size 720x504 with 1 Axes>"
      ]
     },
     "metadata": {},
     "output_type": "display_data"
    }
   ],
   "source": [
    "# Plotting Graph for Distribution of Sales by Category\n",
    "\n",
    "plt.figure(figsize=(10,7))\n",
    "plt.pie(category_sales['Sales'],labels=category_sales['Category'],autopct='%1.1f%%');\n",
    "plt.title('Distribution of Sales by Category')\n",
    "plt.show()\n"
   ]
  },
  {
   "cell_type": "code",
   "execution_count": 144,
   "id": "53630bb5",
   "metadata": {},
   "outputs": [
    {
     "name": "stdout",
     "output_type": "stream",
     "text": [
      "   Sub-Category        Sales\n",
      "0        Phones  330007.0540\n",
      "1        Chairs  328449.1030\n",
      "2       Storage  223843.6080\n",
      "3        Tables  206965.5320\n",
      "4       Binders  203412.7330\n",
      "5      Machines  189238.6310\n",
      "6   Accessories  167380.3180\n",
      "7       Copiers  149528.0300\n",
      "8     Bookcases  114879.9963\n",
      "9    Appliances  107532.1610\n",
      "10  Furnishings   91705.1640\n",
      "11        Paper   78479.2060\n",
      "12     Supplies   46673.5380\n",
      "13          Art   27118.7920\n",
      "14    Envelopes   16476.4020\n",
      "15       Labels   12486.3120\n",
      "16    Fasteners    3024.2800\n"
     ]
    }
   ],
   "source": [
    "# Total sales by sub-category\n",
    "\n",
    "sub_category_sales = df.groupby('Sub-Category')['Sales'].sum().reset_index()\n",
    "sub_category_sales = sub_category_sales.sort_values(by='Sales',ascending=False).reset_index(drop=True)\n",
    "print(sub_category_sales)\n"
   ]
  },
  {
   "cell_type": "code",
   "execution_count": 132,
   "id": "df31ed1d",
   "metadata": {},
   "outputs": [
    {
     "data": {
      "image/png": "[encoded data removed]",
      "text/plain": [
       "<Figure size 1080x360 with 1 Axes>"
      ]
     },
     "metadata": {
      "needs_background": "light"
     },
     "output_type": "display_data"
    }
   ],
   "source": [
    "# Bar chart of sales by sub-category\n",
    "\n",
    "sub_category_sales = sub_category_sales.sort_values(by='Sales',ascending=True)\n",
    "plt.figure(figsize=(15,5))\n",
    "plt.barh(sub_category_sales['Sub-Category'],sub_category_sales['Sales'])\n",
    "\n",
    "plt.xlabel('Sub-Category',fontsize=12)\n",
    "plt.ylabel('Total Sales',fontsize=12)\n",
    "plt.title('Top Product Based on Sales',fontsize=15)\n",
    "plt.show()\n"
   ]
  },
  {
   "cell_type": "markdown",
   "id": "77c7bf36",
   "metadata": {},
   "source": [
    "## Sales Trend Analysis"
   ]
  },
  {
   "cell_type": "code",
   "execution_count": 78,
   "id": "412edcda",
   "metadata": {},
   "outputs": [
    {
     "name": "stdout",
     "output_type": "stream",
     "text": [
      "   Year  Total Sales\n",
      "0  2014  484247.4981\n",
      "1  2015  470532.5090\n",
      "2  2016  609205.5980\n",
      "3  2017  733215.2552\n"
     ]
    }
   ],
   "source": [
    "#Convert order date to datetime format\n",
    "\n",
    "df['Order Date'] = pd.to_datetime(df['Order Date'],dayfirst=True)\n",
    "\n",
    "# Group by year and calculate total sales\n",
    "yearly_sales = df.groupby(df['Order Date'].dt.year)['Sales'].sum().reset_index()\n",
    "\n",
    "# Rename columns for clarity\n",
    "yearly_sales = yearly_sales.rename(columns={'Order Date':'Year','Sales':'Total Sales'})\n",
    "\n",
    "# Print the result\n",
    "print(yearly_sales)\n"
   ]
  },
  {
   "cell_type": "code",
   "execution_count": 79,
   "id": "8a315e32",
   "metadata": {},
   "outputs": [
    {
     "data": {
      "image/png": "[encoded data removed]",
      "text/plain": [
       "<Figure size 720x432 with 1 Axes>"
      ]
     },
     "metadata": {
      "needs_background": "light"
     },
     "output_type": "display_data"
    }
   ],
   "source": [
    "# Sales distribution by years\n",
    "\n",
    "year_labels = [str(year) for year in yearly_sales['Year']]\n",
    "\n",
    "plt.figure(figsize=(10, 6))\n",
    "plt.bar(year_labels, yearly_sales['Total Sales'], color='skyblue')\n",
    "\n",
    "# Add labels and title\n",
    "plt.xlabel('Year', fontsize=12)\n",
    "plt.ylabel('Total Sales', fontsize=12)\n",
    "plt.title('Yearly Sales', fontsize=15)\n",
    "plt.xticks(rotation=45)\n",
    "plt.show()\n"
   ]
  },
  {
   "cell_type": "code",
   "execution_count": 80,
   "id": "53277b66",
   "metadata": {},
   "outputs": [
    {
     "data": {
      "image/png": "[encoded data removed]",
      "text/plain": [
       "<Figure size 864x432 with 1 Axes>"
      ]
     },
     "metadata": {
      "needs_background": "light"
     },
     "output_type": "display_data"
    }
   ],
   "source": [
    "#Graph of yearly Sales Trend\n",
    "\n",
    "plt.figure(figsize=(12, 6))\n",
    "plt.plot(year_labels, yearly_sales['Total Sales'], marker='o', linestyle='--', color='blue')\n",
    "\n",
    "# Add labels and title\n",
    "plt.xlabel('Year', fontsize=12)\n",
    "plt.ylabel('Total Sales ($)', fontsize=12)\n",
    "plt.title('Yearly Sales Trend', fontsize=14)\n",
    "\n",
    "plt.xticks(year_labels)\n",
    "plt.tight_layout()\n",
    "plt.show()\n"
   ]
  },
  {
   "cell_type": "code",
   "execution_count": 151,
   "id": "6edbb953",
   "metadata": {},
   "outputs": [
    {
     "name": "stdout",
     "output_type": "stream",
     "text": [
      "   Quarter        Sales\n",
      "0   2014Q1   96498.7200\n",
      "1   2014Q2   83636.8806\n",
      "2   2014Q3  139306.0173\n",
      "3   2014Q4  164805.8802\n",
      "4   2015Q1   90952.3496\n",
      "5   2015Q2   97852.8812\n",
      "6   2015Q3  145554.2330\n",
      "7   2015Q4  136173.0452\n",
      "8   2016Q1  136898.6390\n",
      "9   2016Q2  149148.5428\n",
      "10  2016Q3  131098.5257\n",
      "11  2016Q4  192059.8905\n",
      "12  2017Q1  189519.8842\n",
      "13  2017Q2  127696.7735\n",
      "14  2017Q3  204221.9995\n",
      "15  2017Q4  211776.5980\n"
     ]
    }
   ],
   "source": [
    "# Quarterly Sales Trend\n",
    "\n",
    "df['Order Date'] = pd.to_datetime(df['Order Date'])\n",
    "\n",
    "df['Year'] = df['Order Date'].dt.year\n",
    "df['Quarter'] = df['Order Date'].dt.to_period('Q')\n",
    "\n",
    "quarterly_sales = df.groupby(['Quarter'])['Sales'].sum().reset_index()\n",
    "print(quarterly_sales)\n"
   ]
  },
  {
   "cell_type": "code",
   "execution_count": 152,
   "id": "0163c410",
   "metadata": {},
   "outputs": [
    {
     "data": {
      "image/png": "[encoded data removed]",
      "text/plain": [
       "<Figure size 864x432 with 1 Axes>"
      ]
     },
     "metadata": {
      "needs_background": "light"
     },
     "output_type": "display_data"
    }
   ],
   "source": [
    "# Graph for Quarterly sales Trend\n",
    "\n",
    "\n",
    "# Convert 'Quarter' to a string for better plotting\n",
    "quarterly_sales['Quarter'] = quarterly_sales['Quarter'].astype(str)\n",
    "\n",
    "# Plot\n",
    "plt.figure(figsize=(12, 6))\n",
    "sns.lineplot(data=quarterly_sales, x='Quarter', y='Sales', marker='o', linestyle='--', color='blue')\n",
    "\n",
    "# Add labels and title\n",
    "plt.xlabel('Quarter', fontsize=12)\n",
    "plt.ylabel('Total Sales ($)', fontsize=12)\n",
    "plt.title('Quarterly Sales Trend', fontsize=14)\n",
    "plt.xticks(rotation=45)\n",
    "\n",
    "plt.tight_layout()\n",
    "plt.show()\n"
   ]
  },
  {
   "cell_type": "code",
   "execution_count": 153,
   "id": "1e4294b8",
   "metadata": {},
   "outputs": [
    {
     "name": "stdout",
     "output_type": "stream",
     "text": [
      "     Quarter  Total Sales\n",
      "0 2017-03-31  189519.8842\n",
      "1 2017-06-30  127696.7735\n",
      "2 2017-09-30  204221.9995\n",
      "3 2017-12-31  211776.5980\n"
     ]
    }
   ],
   "source": [
    "# Quarterly sales for year 2017\n",
    "\n",
    "year_sales = df[df['Order Date'].dt.year == 2017]\n",
    "\n",
    "# Resample by quarter and sum sales\n",
    "quarter_sales_2017 = year_sales.resample('Q', on='Order Date')['Sales'].sum().reset_index()\n",
    "\n",
    "# Rename columns\n",
    "quarter_sales_2017.rename(columns={'Order Date': 'Quarter', 'Sales': 'Total Sales'}, inplace=True)\n",
    "print(quarter_sales_2017)\n"
   ]
  },
  {
   "cell_type": "code",
   "execution_count": 85,
   "id": "c7089982",
   "metadata": {},
   "outputs": [
    {
     "data": {
      "image/png": "[encoded data removed]",
      "text/plain": [
       "<Figure size 864x432 with 1 Axes>"
      ]
     },
     "metadata": {
      "needs_background": "light"
     },
     "output_type": "display_data"
    }
   ],
   "source": [
    "plt.figure(figsize=(12, 6))\n",
    "\n",
    "sns.lineplot(data=quarter_sales_2017, x='Quarter', y='Total Sales', marker='o', linestyle='--', color='blue')\n",
    "\n",
    "# Add labels and title\n",
    "\n",
    "plt.xlabel('Quarter', fontsize=12)\n",
    "plt.ylabel('Total Sales ($)', fontsize=12)\n",
    "plt.title('Quarterly Sales Trend', fontsize=14)\n",
    "plt.xticks(rotation=45)\n",
    "\n",
    "plt.tight_layout()\n",
    "plt.show()\n"
   ]
  },
  {
   "cell_type": "code",
   "execution_count": 155,
   "id": "b7965435",
   "metadata": {},
   "outputs": [
    {
     "name": "stdout",
     "output_type": "stream",
     "text": [
      "      Month  Total Sales\n",
      "0   2014-01   28953.7060\n",
      "1   2014-02   12743.1080\n",
      "2   2014-03   54801.9060\n",
      "3   2014-04   24710.0160\n",
      "4   2014-05   29639.8340\n",
      "5   2014-06   29287.0306\n",
      "6   2014-07   35341.2460\n",
      "7   2014-08   37854.5475\n",
      "8   2014-09   66110.2238\n",
      "9   2014-10   34561.9470\n",
      "10  2014-11   64817.6185\n",
      "11  2014-12   65426.3147\n",
      "12  2015-01   29347.3864\n",
      "13  2015-02   20728.3520\n",
      "14  2015-03   40876.6112\n",
      "15  2015-04   38056.9685\n",
      "16  2015-05   30933.7145\n",
      "17  2015-06   28862.1982\n",
      "18  2015-07   28730.3760\n",
      "19  2015-08   50094.5280\n",
      "20  2015-09   66729.3290\n",
      "21  2015-10   32025.0750\n",
      "22  2015-11   50732.3090\n",
      "23  2015-12   53415.6612\n",
      "24  2016-01   38048.1840\n",
      "25  2016-02   49238.4100\n",
      "26  2016-03   49612.0450\n",
      "27  2016-04   45192.2780\n",
      "28  2016-05   64964.3218\n",
      "29  2016-06   38991.9430\n",
      "30  2016-07   42773.3950\n",
      "31  2016-08   46339.9884\n",
      "32  2016-09   41985.1423\n",
      "33  2016-10   52268.1500\n",
      "34  2016-11   66837.5850\n",
      "35  2016-12   72954.1555\n",
      "36  2017-01   64734.3110\n",
      "37  2017-02   50011.4894\n",
      "38  2017-03   74774.0838\n",
      "39  2017-04   39072.0016\n",
      "40  2017-05   40882.4464\n",
      "41  2017-06   47742.3255\n",
      "42  2017-07   54382.0875\n",
      "43  2017-08   75675.3040\n",
      "44  2017-09   74164.6080\n",
      "45  2017-10   65501.1622\n",
      "46  2017-11   89306.2400\n",
      "47  2017-12   56969.1958\n"
     ]
    }
   ],
   "source": [
    "#monthly Sales Trend\n",
    "\n",
    "df['Month'] = df['Order Date'].dt.to_period('M')\n",
    "\n",
    "monthly_sales = df.groupby(['Month'])['Sales'].sum().reset_index()\n",
    "monthly_sales = monthly_sales.rename(columns={'Sales':'Total Sales'})\n",
    "print(monthly_sales)\n"
   ]
  },
  {
   "cell_type": "code",
   "execution_count": 156,
   "id": "2e81412f",
   "metadata": {},
   "outputs": [
    {
     "name": "stdout",
     "output_type": "stream",
     "text": [
      "      Monthly  Total Sales\n",
      "0  2017-01-31   64734.3110\n",
      "1  2017-02-28   50011.4894\n",
      "2  2017-03-31   74774.0838\n",
      "3  2017-04-30   39072.0016\n",
      "4  2017-05-31   40882.4464\n",
      "5  2017-06-30   47742.3255\n",
      "6  2017-07-31   54382.0875\n",
      "7  2017-08-31   75675.3040\n",
      "8  2017-09-30   74164.6080\n",
      "9  2017-10-31   65501.1622\n",
      "10 2017-11-30   89306.2400\n",
      "11 2017-12-31   56969.1958\n"
     ]
    }
   ],
   "source": [
    "# Monthly sales for year 2017\n",
    "\n",
    "monthly_sales = df[df['Order Date'].dt.year == 2017]\n",
    "\n",
    "# Resample by quarter and sum sales\n",
    "monthly_sales_2017 = monthly_sales.resample('M', on='Order Date')['Sales'].sum().reset_index()\n",
    "\n",
    "# Rename columns\n",
    "monthly_sales_2017.rename(columns={'Order Date': 'Monthly', 'Sales': 'Total Sales'}, inplace=True)\n",
    "print(monthly_sales_2017)\n"
   ]
  },
  {
   "cell_type": "code",
   "execution_count": 157,
   "id": "19082d82",
   "metadata": {},
   "outputs": [
    {
     "data": {
      "image/png": "[encoded data removed]",
      "text/plain": [
       "<Figure size 864x432 with 1 Axes>"
      ]
     },
     "metadata": {
      "needs_background": "light"
     },
     "output_type": "display_data"
    }
   ],
   "source": [
    "plt.figure(figsize=(12, 6))\n",
    "\n",
    "sns.lineplot(data=monthly_sales_2017, x='Monthly', y='Total Sales', marker='o', linestyle='--', color='blue')\n",
    "\n",
    "# Add labels and title\n",
    "plt.xlabel('Month', fontsize=12)\n",
    "plt.ylabel('Total Sales ($)', fontsize=12)\n",
    "plt.title('Monthly Sales Trend', fontsize=14)\n",
    "plt.xticks(rotation=45)\n",
    "\n",
    "plt.tight_layout()\n",
    "plt.show()\n"
   ]
  },
  {
   "cell_type": "code",
   "execution_count": null,
   "id": "a9024ea4",
   "metadata": {},
   "outputs": [],
   "source": []
  }
 ],
 "metadata": {
  "kernelspec": {
   "display_name": "Python 3 (ipykernel)",
   "language": "python",
   "name": "python3"
  },
  "language_info": {
   "codemirror_mode": {
    "name": "ipython",
    "version": 3
   },
   "file_extension": ".py",
   "mimetype": "text/x-python",
   "name": "python",
   "nbconvert_exporter": "python",
   "pygments_lexer": "ipython3",
   "version": "3.10.0"
  }
 },
 "nbformat": 4,
 "nbformat_minor": 5
}
